{
 "cells": [
  {
   "cell_type": "markdown",
   "metadata": {
    "slideshow": {
     "slide_type": "slide"
    }
   },
   "source": [
    "# Alerta\n",
    "\n",
    "A tutorial from scratch to writing your own alerts using alerta.io.\n",
    "— Or how I learned to love alerts."
   ]
  },
  {
   "cell_type": "code",
   "execution_count": null,
   "metadata": {
    "collapsed": false,
    "scrolled": true,
    "slideshow": {
     "slide_type": "slide"
    }
   },
   "outputs": [],
   "source": [
    "from IPython.display import HTML\n",
    "HTML('<iframe src=\"http://alerta.io\" width=\"100%\" height=\"500\"></iframe>')"
   ]
  },
  {
   "cell_type": "markdown",
   "metadata": {
    "slideshow": {
     "slide_type": "slide"
    }
   },
   "source": [
    "## Prerequisites\n",
    "\n",
    "Assumed environment (tested on Mac OS X):\n",
    "\n",
    "- POSIX OS\n",
    "- bash\n",
    "- git\n",
    "- pkill\n",
    "- wget"
   ]
  },
  {
   "cell_type": "markdown",
   "metadata": {
    "slideshow": {
     "slide_type": "slide"
    }
   },
   "source": [
    "## Setup\n",
    "\n",
    "The following setup needs to be done before you can proceed doing the rest from this notebook.\n",
    "To perform this setup run the following code in a terminal."
   ]
  },
  {
   "cell_type": "markdown",
   "metadata": {
    "collapsed": false,
    "scrolled": true,
    "slideshow": {
     "slide_type": "slide"
    }
   },
   "source": [
    "```bash\n",
    "#!/usr/bin/bash\n",
    "\n",
    "# create and memorize throw-away directory\n",
    "export ALERTA_TEST_DIR=~/alerta_test_directory\n",
    "echo \"export ALERTA_TEST_DIR=$ALERTA_TEST_DIR\" >> ~/.bash_profile\n",
    "mkdir -p $ALERTA_TEST_DIR\n",
    "\n",
    "# install Miniconda2\n",
    "wget https://repo.continuum.io/miniconda/Miniconda-latest-MacOSX-x86_64.sh\n",
    "echo \"agree to terms, install into './miniconda2', do not modify PATH...\"\n",
    "bash Miniconda-latest-MacOSX-x86_64.sh\n",
    "\n",
    "# continued...\n",
    "```"
   ]
  },
  {
   "cell_type": "markdown",
   "metadata": {
    "slideshow": {
     "slide_type": "slide"
    }
   },
   "source": [
    "```bash\n",
    "# ...\n",
    "\n",
    "# update & install stuff\n",
    "cd $ALERTA_TEST_DIR\n",
    "./miniconda2/bin/pip install -U pip\n",
    "\n",
    "yes | ./miniconda2/bin/conda install jupyter\n",
    "yes | ./miniconda2/bin/conda install ipython\n",
    "\n",
    "git clone https://github.com/damianavila/RISE.git\n",
    "cd RISE\n",
    "../miniconda2/bin/python setup.py install\n",
    "cd ..\n",
    "\n",
    "# this is what you see now!\n",
    "./miniconda2/bin/jupyter-notebook tutorial.ipynb > jupyter.log 2>&1 &\n",
    "```"
   ]
  },
  {
   "cell_type": "markdown",
   "metadata": {
    "slideshow": {
     "slide_type": "slide"
    }
   },
   "source": [
    "## Installing the real thing(s)\n",
    "\n",
    "- MongoDB\n",
    "- Alerta server\n",
    "- Alerta Dashboard\n",
    "\n",
    "Run `bash install.sh`..."
   ]
  },
  {
   "cell_type": "markdown",
   "metadata": {
    "slideshow": {
     "slide_type": "slide"
    }
   },
   "source": [
    "## Start everything\n",
    "\n",
    "In your cloned repository, start the following processes from an external terminal since Jupyter doesn't support background processes (`bash start.sh`):\n",
    "\n",
    "```bash\n",
    "cd $ALERTA_TEST_DIR\n",
    "\n",
    "./mongodb-osx-x86_64-3.2.4/bin/mongod --dbpath ./data/db > mongo.log 2>&1 &\n",
    "\n",
    "./miniconda2/bin/alertad --port 8090 > alertad.log 2>&1 &\n",
    "\n",
    "cd angular-alerta-webui/app\n",
    "../../miniconda2/bin/python -m SimpleHTTPServer 8095 > ../../alertaui.log 2>&1 &\n",
    "cd ../..\n",
    "```"
   ]
  },
  {
   "cell_type": "markdown",
   "metadata": {
    "slideshow": {
     "slide_type": "slide"
    }
   },
   "source": [
    "## Alerta API"
   ]
  },
  {
   "cell_type": "code",
   "execution_count": null,
   "metadata": {
    "collapsed": false,
    "slideshow": {
     "slide_type": "fragment"
    }
   },
   "outputs": [],
   "source": [
    "from IPython.display import HTML\n",
    "HTML('<iframe src=\"http://localhost:8090\" width=\"100%\" height=\"500\"></iframe>')"
   ]
  },
  {
   "cell_type": "markdown",
   "metadata": {
    "slideshow": {
     "slide_type": "slide"
    }
   },
   "source": [
    "## Alerta Dashboard"
   ]
  },
  {
   "cell_type": "code",
   "execution_count": null,
   "metadata": {
    "collapsed": false,
    "scrolled": true,
    "slideshow": {
     "slide_type": "fragment"
    }
   },
   "outputs": [],
   "source": [
    "from IPython.display import HTML\n",
    "HTML('<iframe src=\"http://localhost:8095\" width=\"100%\" height=\"500\"></iframe>')"
   ]
  },
  {
   "cell_type": "markdown",
   "metadata": {
    "slideshow": {
     "slide_type": "slide"
    }
   },
   "source": [
    "## Roll Your Own Alerts"
   ]
  },
  {
   "cell_type": "markdown",
   "metadata": {
    "slideshow": {
     "slide_type": "fragment"
    }
   },
   "source": [
    "Simple, Unix style"
   ]
  },
  {
   "cell_type": "code",
   "execution_count": null,
   "metadata": {
    "collapsed": false,
    "slideshow": {
     "slide_type": "fragment"
    }
   },
   "outputs": [],
   "source": [
    "! cd $ALERTA_TEST_DIR && ./miniconda2/bin/alerta \\\n",
    "    --endpoint-url \"http://localhost:8090\" \\\n",
    "    send -E Production -r localhost -e VolUnavailable \\\n",
    "         -S Filesystem -v ERROR -s minor \\\n",
    "         -t \"/Volumes/XYZ not available.\""
   ]
  },
  {
   "cell_type": "code",
   "execution_count": null,
   "metadata": {
    "collapsed": false,
    "slideshow": {
     "slide_type": "fragment"
    }
   },
   "outputs": [],
   "source": [
    "! cd $ALERTA_TEST_DIR && ./miniconda2/bin/alerta \\\n",
    "    --endpoint-url \"http://localhost:8090\" \\\n",
    "    delete"
   ]
  },
  {
   "cell_type": "markdown",
   "metadata": {
    "slideshow": {
     "slide_type": "slide"
    }
   },
   "source": [
    "Same Thing, Python style"
   ]
  },
  {
   "cell_type": "code",
   "execution_count": null,
   "metadata": {
    "collapsed": false,
    "scrolled": true,
    "slideshow": {
     "slide_type": "fragment"
    }
   },
   "outputs": [],
   "source": [
    "from alerta.api import ApiClient\n",
    "from alerta.alert import Alert\n",
    "\n",
    "api = ApiClient(endpoint='http://localhost:8090')\n",
    "alert = Alert(resource='localhost', event='VolUnavailable',\n",
    "              service=['Filesystem'], environment='Production',\n",
    "              value='ERROR', severity='minor')\n",
    "res = api.send(alert)"
   ]
  },
  {
   "cell_type": "markdown",
   "metadata": {
    "slideshow": {
     "slide_type": "slide"
    }
   },
   "source": [
    "Prepare for Awesomeness"
   ]
  },
  {
   "cell_type": "code",
   "execution_count": null,
   "metadata": {
    "collapsed": false,
    "scrolled": true,
    "slideshow": {
     "slide_type": "fragment"
    }
   },
   "outputs": [],
   "source": [
    "%%bash\n",
    "cd $ALERTA_TEST_DIR\n",
    "./miniconda2/bin/pip install urllib3\n",
    "./miniconda2/bin/pip install packaging\n",
    "./miniconda2/bin/pip install selenium\n",
    "./miniconda2/bin/conda install -y lxml"
   ]
  },
  {
   "cell_type": "markdown",
   "metadata": {
    "slideshow": {
     "slide_type": "slide"
    }
   },
   "source": [
    "Hey! We know doing stuff…"
   ]
  },
  {
   "cell_type": "code",
   "execution_count": null,
   "metadata": {
    "collapsed": false,
    "slideshow": {
     "slide_type": "fragment"
    }
   },
   "outputs": [],
   "source": [
    "import os\n",
    "os.path.exists('/Volumes/Intenso64')"
   ]
  },
  {
   "cell_type": "code",
   "execution_count": null,
   "metadata": {
    "collapsed": false,
    "slideshow": {
     "slide_type": "fragment"
    }
   },
   "outputs": [],
   "source": [
    "import my_alerts as ma\n",
    "ma.internet_available()"
   ]
  },
  {
   "cell_type": "code",
   "execution_count": null,
   "metadata": {
    "collapsed": false,
    "slideshow": {
     "slide_type": "fragment"
    }
   },
   "outputs": [],
   "source": [
    "ma.using_vpn(city='Berlin', country='Germany')"
   ]
  },
  {
   "cell_type": "code",
   "execution_count": null,
   "metadata": {
    "collapsed": false,
    "slideshow": {
     "slide_type": "slide"
    }
   },
   "outputs": [],
   "source": [
    "ma.get_python_sites_status()"
   ]
  },
  {
   "cell_type": "code",
   "execution_count": null,
   "metadata": {
    "collapsed": false,
    "slideshow": {
     "slide_type": "slide"
    }
   },
   "outputs": [],
   "source": [
    "ma.get_webpage_info('http://www.python.org', title_contains='Python')"
   ]
  },
  {
   "cell_type": "code",
   "execution_count": null,
   "metadata": {
    "collapsed": false,
    "slideshow": {
     "slide_type": "slide"
    }
   },
   "outputs": [],
   "source": [
    "import sys\n",
    "from os.path import join, dirname\n",
    "ma.get_conda_list(join(dirname(sys.executable), 'conda'))"
   ]
  },
  {
   "cell_type": "markdown",
   "metadata": {
    "slideshow": {
     "slide_type": "slide"
    }
   },
   "source": [
    "Why not let somebody else do it for us?"
   ]
  },
  {
   "cell_type": "code",
   "execution_count": null,
   "metadata": {
    "collapsed": false,
    "slideshow": {
     "slide_type": "fragment"
    }
   },
   "outputs": [],
   "source": [
    "ma.start(list=True)"
   ]
  },
  {
   "cell_type": "code",
   "execution_count": null,
   "metadata": {
    "collapsed": false,
    "slideshow": {
     "slide_type": "fragment"
    }
   },
   "outputs": [],
   "source": [
    "ma.start(all=True)"
   ]
  },
  {
   "cell_type": "markdown",
   "metadata": {
    "slideshow": {
     "slide_type": "slide"
    }
   },
   "source": [
    "Now start playing by doing any of these things and watch the effects in the Alerta dashboard:\n",
    "\n",
    "- closing and reopening your internet connection\n",
    "- disconnecting and reconnecting your VPN client\n",
    "- mounting and ejecting a volume (named `Intenso64` above)\n",
    "- then, look at my_alerts.py and create your own!"
   ]
  }
 ],
 "metadata": {
  "celltoolbar": "Slideshow",
  "kernelspec": {
   "display_name": "Python 2",
   "language": "python",
   "name": "python2"
  },
  "language_info": {
   "codemirror_mode": {
    "name": "ipython",
    "version": 2
   },
   "file_extension": ".py",
   "mimetype": "text/x-python",
   "name": "python",
   "nbconvert_exporter": "python",
   "pygments_lexer": "ipython2",
   "version": "2.7.11"
  }
 },
 "nbformat": 4,
 "nbformat_minor": 0
}
